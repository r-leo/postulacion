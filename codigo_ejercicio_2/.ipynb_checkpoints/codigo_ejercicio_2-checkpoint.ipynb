{
 "cells": [
  {
   "cell_type": "markdown",
   "id": "33e2b6eb-1e73-4bb3-9fa2-c2e7b24166ce",
   "metadata": {},
   "source": [
    "# Ejercicio 2: análisis de tablas\n",
    "*Rodrigo Leo*\n",
    "\n",
    "**Objetivo**: usando datos de la ENIGH 2018, identificar por quintil de ingreso de las viviendas el tipo de tenencia de vivienda (propia, propia pero la están pagando, rentada u otros). Generar una tabla resumen en Excel que presente los resultados a nivel nacional, tanto en número de viviendas como en participación porcentual.\n",
    "\n",
    "---"
   ]
  },
  {
   "cell_type": "markdown",
   "id": "f748cbae-3a56-4a8e-8a4c-9d93a6331271",
   "metadata": {},
   "source": [
    "## 1. Importar paquetes y tablas"
   ]
  },
  {
   "cell_type": "markdown",
   "id": "b631e370-c0d6-43ef-82f9-a1bf63a0f157",
   "metadata": {},
   "source": [
    "En primer lugar importamos los paquetes de Python requeridos para el análisis. En este caso únicamente requerimos `pandas`:"
   ]
  },
  {
   "cell_type": "code",
   "execution_count": 1,
   "id": "7942a35c-39ec-4770-a6d0-24144bfa6bd9",
   "metadata": {},
   "outputs": [],
   "source": [
    "import pandas as pd"
   ]
  },
  {
   "cell_type": "markdown",
   "id": "e091d47e-63c3-4d42-8698-68e2819eb8f4",
   "metadata": {},
   "source": [
    "Importamos la tabla `concentradohogar.csv` como `ch`:"
   ]
  },
  {
   "cell_type": "code",
   "execution_count": 2,
   "id": "9ad4d88a-d43f-4af5-adba-60a633fce8e9",
   "metadata": {},
   "outputs": [
    {
     "data": {
      "text/html": [
       "<div>\n",
       "<style scoped>\n",
       "    .dataframe tbody tr th:only-of-type {\n",
       "        vertical-align: middle;\n",
       "    }\n",
       "\n",
       "    .dataframe tbody tr th {\n",
       "        vertical-align: top;\n",
       "    }\n",
       "\n",
       "    .dataframe thead th {\n",
       "        text-align: right;\n",
       "    }\n",
       "</style>\n",
       "<table border=\"1\" class=\"dataframe\">\n",
       "  <thead>\n",
       "    <tr style=\"text-align: right;\">\n",
       "      <th></th>\n",
       "      <th>folioviv</th>\n",
       "      <th>foliohog</th>\n",
       "      <th>ubica_geo</th>\n",
       "      <th>tam_loc</th>\n",
       "      <th>factor</th>\n",
       "      <th>clase_hog</th>\n",
       "      <th>sexo_jefe</th>\n",
       "      <th>edad_jefe</th>\n",
       "      <th>educa_jefe</th>\n",
       "      <th>tot_integ</th>\n",
       "      <th>ing_cor</th>\n",
       "    </tr>\n",
       "  </thead>\n",
       "  <tbody>\n",
       "    <tr>\n",
       "      <th>0</th>\n",
       "      <td>100013601</td>\n",
       "      <td>1</td>\n",
       "      <td>1001</td>\n",
       "      <td>1</td>\n",
       "      <td>175</td>\n",
       "      <td>2</td>\n",
       "      <td>1</td>\n",
       "      <td>74</td>\n",
       "      <td>4</td>\n",
       "      <td>3</td>\n",
       "      <td>76403.70</td>\n",
       "    </tr>\n",
       "    <tr>\n",
       "      <th>1</th>\n",
       "      <td>100013602</td>\n",
       "      <td>1</td>\n",
       "      <td>1001</td>\n",
       "      <td>1</td>\n",
       "      <td>175</td>\n",
       "      <td>2</td>\n",
       "      <td>1</td>\n",
       "      <td>48</td>\n",
       "      <td>11</td>\n",
       "      <td>5</td>\n",
       "      <td>42987.73</td>\n",
       "    </tr>\n",
       "    <tr>\n",
       "      <th>2</th>\n",
       "      <td>100013603</td>\n",
       "      <td>1</td>\n",
       "      <td>1001</td>\n",
       "      <td>1</td>\n",
       "      <td>175</td>\n",
       "      <td>2</td>\n",
       "      <td>1</td>\n",
       "      <td>39</td>\n",
       "      <td>10</td>\n",
       "      <td>2</td>\n",
       "      <td>580697.74</td>\n",
       "    </tr>\n",
       "    <tr>\n",
       "      <th>3</th>\n",
       "      <td>100013604</td>\n",
       "      <td>1</td>\n",
       "      <td>1001</td>\n",
       "      <td>1</td>\n",
       "      <td>175</td>\n",
       "      <td>2</td>\n",
       "      <td>2</td>\n",
       "      <td>70</td>\n",
       "      <td>8</td>\n",
       "      <td>2</td>\n",
       "      <td>46252.71</td>\n",
       "    </tr>\n",
       "    <tr>\n",
       "      <th>4</th>\n",
       "      <td>100013606</td>\n",
       "      <td>1</td>\n",
       "      <td>1001</td>\n",
       "      <td>1</td>\n",
       "      <td>175</td>\n",
       "      <td>2</td>\n",
       "      <td>2</td>\n",
       "      <td>51</td>\n",
       "      <td>4</td>\n",
       "      <td>4</td>\n",
       "      <td>53837.09</td>\n",
       "    </tr>\n",
       "  </tbody>\n",
       "</table>\n",
       "</div>"
      ],
      "text/plain": [
       "    folioviv  foliohog  ubica_geo  tam_loc  factor  clase_hog  sexo_jefe  \\\n",
       "0  100013601         1       1001        1     175          2          1   \n",
       "1  100013602         1       1001        1     175          2          1   \n",
       "2  100013603         1       1001        1     175          2          1   \n",
       "3  100013604         1       1001        1     175          2          2   \n",
       "4  100013606         1       1001        1     175          2          2   \n",
       "\n",
       "   edad_jefe  educa_jefe  tot_integ    ing_cor  \n",
       "0         74           4          3   76403.70  \n",
       "1         48          11          5   42987.73  \n",
       "2         39          10          2  580697.74  \n",
       "3         70           8          2   46252.71  \n",
       "4         51           4          4   53837.09  "
      ]
     },
     "execution_count": 2,
     "metadata": {},
     "output_type": "execute_result"
    }
   ],
   "source": [
    "ch = pd.read_csv('concentradohogar.csv')\n",
    "ch.head()"
   ]
  },
  {
   "cell_type": "markdown",
   "id": "b968bb51-9d97-4778-87dd-6518d0b80718",
   "metadata": {},
   "source": [
    "Obtenemos el número de registros de la tabla y el tipo de datos de cada columa:"
   ]
  },
  {
   "cell_type": "code",
   "execution_count": 3,
   "id": "93480c32-98f9-4097-9c3c-90d939b12067",
   "metadata": {},
   "outputs": [
    {
     "data": {
      "text/plain": [
       "74647"
      ]
     },
     "execution_count": 3,
     "metadata": {},
     "output_type": "execute_result"
    }
   ],
   "source": [
    "len(ch)"
   ]
  },
  {
   "cell_type": "code",
   "execution_count": 4,
   "id": "17af4bba-0e65-4539-954b-3777d17e6367",
   "metadata": {},
   "outputs": [
    {
     "data": {
      "text/plain": [
       "folioviv        int64\n",
       "foliohog        int64\n",
       "ubica_geo       int64\n",
       "tam_loc         int64\n",
       "factor          int64\n",
       "clase_hog       int64\n",
       "sexo_jefe       int64\n",
       "edad_jefe       int64\n",
       "educa_jefe      int64\n",
       "tot_integ       int64\n",
       "ing_cor       float64\n",
       "dtype: object"
      ]
     },
     "execution_count": 4,
     "metadata": {},
     "output_type": "execute_result"
    }
   ],
   "source": [
    "ch.dtypes"
   ]
  },
  {
   "cell_type": "markdown",
   "id": "6d5bb7ef-d339-47b4-8d92-97d6d6f34959",
   "metadata": {},
   "source": [
    "Importamos la tabla `viviendas.csv` como `viviendas`:"
   ]
  },
  {
   "cell_type": "code",
   "execution_count": 5,
   "id": "f0057ae1-6138-4fe9-ad6e-4c998ea92fed",
   "metadata": {},
   "outputs": [
    {
     "data": {
      "text/html": [
       "<div>\n",
       "<style scoped>\n",
       "    .dataframe tbody tr th:only-of-type {\n",
       "        vertical-align: middle;\n",
       "    }\n",
       "\n",
       "    .dataframe tbody tr th {\n",
       "        vertical-align: top;\n",
       "    }\n",
       "\n",
       "    .dataframe thead th {\n",
       "        text-align: right;\n",
       "    }\n",
       "</style>\n",
       "<table border=\"1\" class=\"dataframe\">\n",
       "  <thead>\n",
       "    <tr style=\"text-align: right;\">\n",
       "      <th></th>\n",
       "      <th>folioviv</th>\n",
       "      <th>tipo_viv</th>\n",
       "      <th>mat_pared</th>\n",
       "      <th>mat_techos</th>\n",
       "      <th>mat_pisos</th>\n",
       "      <th>antiguedad</th>\n",
       "      <th>antigua_ne</th>\n",
       "      <th>cocina</th>\n",
       "      <th>cocina_dor</th>\n",
       "      <th>cuart_dorm</th>\n",
       "      <th>num_cuarto</th>\n",
       "      <th>disp_agua</th>\n",
       "      <th>dotac_agua</th>\n",
       "      <th>excusado</th>\n",
       "      <th>uso_compar</th>\n",
       "      <th>sanit_agua</th>\n",
       "      <th>tenencia</th>\n",
       "      <th>tipo_adqui</th>\n",
       "      <th>viv_usada</th>\n",
       "      <th>tipo_finan</th>\n",
       "    </tr>\n",
       "  </thead>\n",
       "  <tbody>\n",
       "    <tr>\n",
       "      <th>0</th>\n",
       "      <td>100013601</td>\n",
       "      <td>1</td>\n",
       "      <td>8</td>\n",
       "      <td>10</td>\n",
       "      <td>3</td>\n",
       "      <td>42.0</td>\n",
       "      <td></td>\n",
       "      <td>1</td>\n",
       "      <td>2</td>\n",
       "      <td>4</td>\n",
       "      <td>6</td>\n",
       "      <td>1</td>\n",
       "      <td>1</td>\n",
       "      <td>1</td>\n",
       "      <td>2</td>\n",
       "      <td>1</td>\n",
       "      <td>4</td>\n",
       "      <td>1</td>\n",
       "      <td>2</td>\n",
       "      <td>5</td>\n",
       "    </tr>\n",
       "    <tr>\n",
       "      <th>1</th>\n",
       "      <td>100013602</td>\n",
       "      <td>1</td>\n",
       "      <td>8</td>\n",
       "      <td>10</td>\n",
       "      <td>3</td>\n",
       "      <td>40.0</td>\n",
       "      <td></td>\n",
       "      <td>1</td>\n",
       "      <td>2</td>\n",
       "      <td>5</td>\n",
       "      <td>6</td>\n",
       "      <td>1</td>\n",
       "      <td>1</td>\n",
       "      <td>1</td>\n",
       "      <td>2</td>\n",
       "      <td>1</td>\n",
       "      <td>2</td>\n",
       "      <td></td>\n",
       "      <td></td>\n",
       "      <td></td>\n",
       "    </tr>\n",
       "    <tr>\n",
       "      <th>2</th>\n",
       "      <td>100013603</td>\n",
       "      <td>1</td>\n",
       "      <td>8</td>\n",
       "      <td>10</td>\n",
       "      <td>3</td>\n",
       "      <td>50.0</td>\n",
       "      <td></td>\n",
       "      <td>1</td>\n",
       "      <td>2</td>\n",
       "      <td>2</td>\n",
       "      <td>7</td>\n",
       "      <td>1</td>\n",
       "      <td>1</td>\n",
       "      <td>1</td>\n",
       "      <td>2</td>\n",
       "      <td>1</td>\n",
       "      <td>4</td>\n",
       "      <td>1</td>\n",
       "      <td>1</td>\n",
       "      <td>2</td>\n",
       "    </tr>\n",
       "    <tr>\n",
       "      <th>3</th>\n",
       "      <td>100013604</td>\n",
       "      <td>1</td>\n",
       "      <td>8</td>\n",
       "      <td>10</td>\n",
       "      <td>3</td>\n",
       "      <td>45.0</td>\n",
       "      <td></td>\n",
       "      <td>1</td>\n",
       "      <td>2</td>\n",
       "      <td>2</td>\n",
       "      <td>5</td>\n",
       "      <td>1</td>\n",
       "      <td>1</td>\n",
       "      <td>1</td>\n",
       "      <td>2</td>\n",
       "      <td>1</td>\n",
       "      <td>4</td>\n",
       "      <td>1</td>\n",
       "      <td>2</td>\n",
       "      <td>2</td>\n",
       "    </tr>\n",
       "    <tr>\n",
       "      <th>4</th>\n",
       "      <td>100013606</td>\n",
       "      <td>1</td>\n",
       "      <td>8</td>\n",
       "      <td>10</td>\n",
       "      <td>3</td>\n",
       "      <td>40.0</td>\n",
       "      <td></td>\n",
       "      <td>1</td>\n",
       "      <td>2</td>\n",
       "      <td>3</td>\n",
       "      <td>4</td>\n",
       "      <td>1</td>\n",
       "      <td>4</td>\n",
       "      <td>1</td>\n",
       "      <td>2</td>\n",
       "      <td>1</td>\n",
       "      <td>2</td>\n",
       "      <td></td>\n",
       "      <td></td>\n",
       "      <td></td>\n",
       "    </tr>\n",
       "  </tbody>\n",
       "</table>\n",
       "</div>"
      ],
      "text/plain": [
       "    folioviv tipo_viv  mat_pared  mat_techos mat_pisos  antiguedad antigua_ne  \\\n",
       "0  100013601        1          8          10         3        42.0              \n",
       "1  100013602        1          8          10         3        40.0              \n",
       "2  100013603        1          8          10         3        50.0              \n",
       "3  100013604        1          8          10         3        45.0              \n",
       "4  100013606        1          8          10         3        40.0              \n",
       "\n",
       "   cocina cocina_dor  cuart_dorm  num_cuarto  disp_agua dotac_agua  excusado  \\\n",
       "0       1          2           4           6          1          1         1   \n",
       "1       1          2           5           6          1          1         1   \n",
       "2       1          2           2           7          1          1         1   \n",
       "3       1          2           2           5          1          1         1   \n",
       "4       1          2           3           4          1          4         1   \n",
       "\n",
       "  uso_compar sanit_agua  tenencia tipo_adqui viv_usada tipo_finan  \n",
       "0          2          1         4          1         2          5  \n",
       "1          2          1         2                                  \n",
       "2          2          1         4          1         1          2  \n",
       "3          2          1         4          1         2          2  \n",
       "4          2          1         2                                  "
      ]
     },
     "execution_count": 5,
     "metadata": {},
     "output_type": "execute_result"
    }
   ],
   "source": [
    "viviendas = pd.read_csv('viviendas.csv', low_memory = False)\n",
    "viviendas.head()"
   ]
  },
  {
   "cell_type": "markdown",
   "id": "2ae23bee-f488-4cdd-af2e-e17ecdf39389",
   "metadata": {},
   "source": [
    "Obtenemos el número de registros de la tabla y el tipo de datos de cada columa:"
   ]
  },
  {
   "cell_type": "code",
   "execution_count": 6,
   "id": "52361566-fbac-43da-80ca-33aa051f2d08",
   "metadata": {},
   "outputs": [
    {
     "data": {
      "text/plain": [
       "73405"
      ]
     },
     "execution_count": 6,
     "metadata": {},
     "output_type": "execute_result"
    }
   ],
   "source": [
    "len(viviendas)"
   ]
  },
  {
   "cell_type": "code",
   "execution_count": 7,
   "id": "70d9236f-55b1-4137-8c82-9f45e226a3ab",
   "metadata": {},
   "outputs": [
    {
     "data": {
      "text/plain": [
       "folioviv        int64\n",
       "tipo_viv       object\n",
       "mat_pared       int64\n",
       "mat_techos      int64\n",
       "mat_pisos      object\n",
       "antiguedad    float64\n",
       "antigua_ne     object\n",
       "cocina          int64\n",
       "cocina_dor     object\n",
       "cuart_dorm      int64\n",
       "num_cuarto      int64\n",
       "disp_agua       int64\n",
       "dotac_agua     object\n",
       "excusado        int64\n",
       "uso_compar     object\n",
       "sanit_agua     object\n",
       "tenencia        int64\n",
       "tipo_adqui     object\n",
       "viv_usada      object\n",
       "tipo_finan     object\n",
       "dtype: object"
      ]
     },
     "execution_count": 7,
     "metadata": {},
     "output_type": "execute_result"
    }
   ],
   "source": [
    "viviendas.dtypes"
   ]
  },
  {
   "cell_type": "markdown",
   "id": "06143d76-cb74-4c3d-965b-e3a9e4018235",
   "metadata": {},
   "source": [
    "## 2. Determinar el ingreso *por vivienda*"
   ]
  },
  {
   "cell_type": "markdown",
   "id": "c89149d6-5a5e-43b1-ae28-932dd13e1608",
   "metadata": {},
   "source": [
    "Creamos una columa de ceros en `viviendas`, llamada `ingreso`, donde se almacenará el ingreso de la vivienda:"
   ]
  },
  {
   "cell_type": "code",
   "execution_count": 8,
   "id": "14441b36-809c-4698-8fe7-afeb3ac402f8",
   "metadata": {},
   "outputs": [],
   "source": [
    "viviendas['ingreso'] = 0.0"
   ]
  },
  {
   "cell_type": "markdown",
   "id": "92f28ee5-eeb5-41a7-a5ef-ffbcabd8eda8",
   "metadata": {},
   "source": [
    "Además, aprovechando que iteraremos sobre toda la tabla para calcular el ingreso por vivienda, obtendremos también el factor de expansión correspondiente. Por lo tanto, creamos una columa de ceros en `vivienda`, llamada `factor`, donde se almacenará el factor de expansión del hogar principal:"
   ]
  },
  {
   "cell_type": "code",
   "execution_count": 9,
   "id": "5053c004-6b7c-405b-95e4-6632cfb24d96",
   "metadata": {},
   "outputs": [],
   "source": [
    "viviendas['factor'] = 0"
   ]
  },
  {
   "cell_type": "markdown",
   "id": "16d7a717-09a9-4378-b257-cd0df92a059c",
   "metadata": {},
   "source": [
    "Determinamos el ingreso de la vivienda como el ingreso corriente del hogar principal de dicha vivienda. Esto se hace cruzando la información de las tablas `viviendas` y `ch`, y filtrando esta última para que sólo considere los hogares principales (es decir, aquellos donde la variable `foliohog` es igual a 1. Esto mismo se hace para el factor de expansión:\n",
    "\n",
    "<span style=\"color:darkred\">Nota: esta celda de código tarda algunos minutos en ejecutarse.</span>"
   ]
  },
  {
   "cell_type": "code",
   "execution_count": 10,
   "id": "a59ba7ad-f65b-4cfe-9e7d-679a337361b3",
   "metadata": {},
   "outputs": [],
   "source": [
    "for index in viviendas.index:\n",
    "    folioviv = viviendas.loc[index]['folioviv']\n",
    "    query = ch.query(f\"folioviv == {folioviv} & foliohog == 1\")\n",
    "    viviendas.at[index, 'ingreso'] = query['ing_cor']\n",
    "    viviendas.at[index, 'factor'] = query['factor']"
   ]
  },
  {
   "cell_type": "markdown",
   "id": "963e8db3-353b-4599-baa3-692d4c686166",
   "metadata": {},
   "source": [
    "A continuación calculamos algunos estadísticos para la nueva variable `ingreso`:"
   ]
  },
  {
   "cell_type": "code",
   "execution_count": 11,
   "id": "7cdf9b35-2b02-4c1b-bffa-f9fd7889ebb2",
   "metadata": {},
   "outputs": [
    {
     "data": {
      "text/plain": [
       "count    7.340500e+04\n",
       "mean     4.637788e+04\n",
       "std      6.165184e+04\n",
       "min      0.000000e+00\n",
       "25%      2.049620e+04\n",
       "50%      3.387037e+04\n",
       "75%      5.557934e+04\n",
       "max      4.501830e+06\n",
       "Name: ingreso, dtype: float64"
      ]
     },
     "execution_count": 11,
     "metadata": {},
     "output_type": "execute_result"
    }
   ],
   "source": [
    "viviendas['ingreso'].describe()"
   ]
  },
  {
   "cell_type": "markdown",
   "id": "2f0b7fc3-34c7-42b8-bc6e-d2bab9a036ba",
   "metadata": {},
   "source": [
    "Observamos que el ingreso mínimo es cero, mientras que el ingreso máximo es 4.5 millones. Para verificar que las observaciones con ingreso igual a cero no sean errores, hay que verificar si estos ceros provienen de los datos originales de la tabla `ch`. Para lograr esto determinamos el número de observaciones donde el ingreso es cero (en ambas tablas) y verificamos si coinciden:"
   ]
  },
  {
   "cell_type": "code",
   "execution_count": 12,
   "id": "e9103659-3a63-449a-9991-ce851b95396d",
   "metadata": {},
   "outputs": [
    {
     "name": "stdout",
     "output_type": "stream",
     "text": [
      "8 8\n"
     ]
    }
   ],
   "source": [
    "print(len(ch.query(\"ing_cor == 0\")), len(viviendas.query(\"ingreso == 0\")))"
   ]
  },
  {
   "cell_type": "markdown",
   "id": "bc3f1a46-b4f0-40e8-b5d4-cb8656c64201",
   "metadata": {},
   "source": [
    "Como el número de observaciones con ingreso cero es el mismo en ambas tablas, concluimos que los ceros observados en el ingreso de las viviendas provienen efectivamente de hogares con ingreso cero, y no son errores del algoritmo.\n",
    "\n",
    "Finalmente obtenemos el número total de viviendas, que es igual a la suma de todos los factores de expansión:"
   ]
  },
  {
   "cell_type": "code",
   "execution_count": 13,
   "id": "de142e0d-a420-415f-8888-18721c931fb2",
   "metadata": {},
   "outputs": [
    {
     "data": {
      "text/plain": [
       "34155615"
      ]
     },
     "execution_count": 13,
     "metadata": {},
     "output_type": "execute_result"
    }
   ],
   "source": [
    "viviendas['factor'].sum()"
   ]
  },
  {
   "cell_type": "markdown",
   "id": "eb8de3fb-c32d-47de-ba7b-175b5d2ee48c",
   "metadata": {},
   "source": [
    "## 3. Calcular quintiles de ingreso por vivienda"
   ]
  },
  {
   "cell_type": "markdown",
   "id": "e1ff600d-5a17-4f79-94a7-e5cf4049597a",
   "metadata": {},
   "source": [
    "A continuación obtenemos el quintil de ingreso que corresponde a cada vivienda. Esto se hace fácilmente con la función `qcut` de `pandas`:"
   ]
  },
  {
   "cell_type": "code",
   "execution_count": 14,
   "id": "200be95f-a7d2-4542-909c-737e41e01c41",
   "metadata": {},
   "outputs": [],
   "source": [
    "viviendas['quintil'] = pd.qcut(viviendas['ingreso'], 5, labels = False)"
   ]
  },
  {
   "cell_type": "markdown",
   "id": "ee9bb233-f17c-445e-a6fd-90fde17c10fd",
   "metadata": {},
   "source": [
    "Verificamos que los quintiles sean enteros del 1 al 5:"
   ]
  },
  {
   "cell_type": "code",
   "execution_count": 15,
   "id": "f0dbe44a-c39e-4257-8fb3-5b32ccac7602",
   "metadata": {},
   "outputs": [
    {
     "data": {
      "text/plain": [
       "array([4, 3, 2, 0, 1])"
      ]
     },
     "execution_count": 15,
     "metadata": {},
     "output_type": "execute_result"
    }
   ],
   "source": [
    "viviendas['quintil'].unique()"
   ]
  },
  {
   "cell_type": "markdown",
   "id": "e502da3a-ade8-4d6f-881c-f2609a08cc29",
   "metadata": {},
   "source": [
    "Notamos que `pandas` numera los quintiles del 0 al 4. Para obtener la numeración que buscamos (del 1 al 5), sumamos una unidad:"
   ]
  },
  {
   "cell_type": "code",
   "execution_count": 16,
   "id": "542eb15d-4d9d-4cbb-94a9-49ba84e1f475",
   "metadata": {},
   "outputs": [
    {
     "data": {
      "text/plain": [
       "array([5, 4, 3, 1, 2])"
      ]
     },
     "execution_count": 16,
     "metadata": {},
     "output_type": "execute_result"
    }
   ],
   "source": [
    "viviendas['quintil'] = viviendas['quintil'] + 1\n",
    "viviendas['quintil'].unique()"
   ]
  },
  {
   "cell_type": "markdown",
   "id": "2663a2be-e96d-4fb1-b08f-4cf275d25f73",
   "metadata": {},
   "source": [
    "Con lo que hemos obtenido la numeración correcta.\n",
    "\n",
    "Finalmente, para verificar que los resultados sean consistentes, agrupamos las observaciones por quintil y obtenemos estadísticos para el ingreso de la vivienda:"
   ]
  },
  {
   "cell_type": "code",
   "execution_count": 17,
   "id": "981dcd1f-091a-4151-887a-c7660c9af8f6",
   "metadata": {},
   "outputs": [
    {
     "data": {
      "text/html": [
       "<div>\n",
       "<style scoped>\n",
       "    .dataframe tbody tr th:only-of-type {\n",
       "        vertical-align: middle;\n",
       "    }\n",
       "\n",
       "    .dataframe tbody tr th {\n",
       "        vertical-align: top;\n",
       "    }\n",
       "\n",
       "    .dataframe thead th {\n",
       "        text-align: right;\n",
       "    }\n",
       "</style>\n",
       "<table border=\"1\" class=\"dataframe\">\n",
       "  <thead>\n",
       "    <tr style=\"text-align: right;\">\n",
       "      <th></th>\n",
       "      <th>count</th>\n",
       "      <th>mean</th>\n",
       "      <th>std</th>\n",
       "      <th>min</th>\n",
       "      <th>25%</th>\n",
       "      <th>50%</th>\n",
       "      <th>75%</th>\n",
       "      <th>max</th>\n",
       "    </tr>\n",
       "    <tr>\n",
       "      <th>quintil</th>\n",
       "      <th></th>\n",
       "      <th></th>\n",
       "      <th></th>\n",
       "      <th></th>\n",
       "      <th></th>\n",
       "      <th></th>\n",
       "      <th></th>\n",
       "      <th></th>\n",
       "    </tr>\n",
       "  </thead>\n",
       "  <tbody>\n",
       "    <tr>\n",
       "      <th>1</th>\n",
       "      <td>14681.0</td>\n",
       "      <td>12068.359069</td>\n",
       "      <td>3942.587029</td>\n",
       "      <td>0.00</td>\n",
       "      <td>9115.43</td>\n",
       "      <td>12546.18</td>\n",
       "      <td>15383.96</td>\n",
       "      <td>18023.71</td>\n",
       "    </tr>\n",
       "    <tr>\n",
       "      <th>2</th>\n",
       "      <td>14681.0</td>\n",
       "      <td>23005.939383</td>\n",
       "      <td>2891.093629</td>\n",
       "      <td>18023.85</td>\n",
       "      <td>20496.20</td>\n",
       "      <td>22987.12</td>\n",
       "      <td>25508.12</td>\n",
       "      <td>28093.91</td>\n",
       "    </tr>\n",
       "    <tr>\n",
       "      <th>3</th>\n",
       "      <td>14681.0</td>\n",
       "      <td>34048.992960</td>\n",
       "      <td>3652.419931</td>\n",
       "      <td>28094.19</td>\n",
       "      <td>30841.99</td>\n",
       "      <td>33870.37</td>\n",
       "      <td>37126.21</td>\n",
       "      <td>40770.56</td>\n",
       "    </tr>\n",
       "    <tr>\n",
       "      <th>4</th>\n",
       "      <td>14681.0</td>\n",
       "      <td>50493.777963</td>\n",
       "      <td>6318.642022</td>\n",
       "      <td>40771.07</td>\n",
       "      <td>44910.15</td>\n",
       "      <td>49890.42</td>\n",
       "      <td>55579.34</td>\n",
       "      <td>63034.71</td>\n",
       "    </tr>\n",
       "    <tr>\n",
       "      <th>5</th>\n",
       "      <td>14681.0</td>\n",
       "      <td>112272.350294</td>\n",
       "      <td>112666.653145</td>\n",
       "      <td>63034.93</td>\n",
       "      <td>73203.17</td>\n",
       "      <td>88524.54</td>\n",
       "      <td>118954.57</td>\n",
       "      <td>4501830.28</td>\n",
       "    </tr>\n",
       "  </tbody>\n",
       "</table>\n",
       "</div>"
      ],
      "text/plain": [
       "           count           mean            std       min       25%       50%  \\\n",
       "quintil                                                                        \n",
       "1        14681.0   12068.359069    3942.587029      0.00   9115.43  12546.18   \n",
       "2        14681.0   23005.939383    2891.093629  18023.85  20496.20  22987.12   \n",
       "3        14681.0   34048.992960    3652.419931  28094.19  30841.99  33870.37   \n",
       "4        14681.0   50493.777963    6318.642022  40771.07  44910.15  49890.42   \n",
       "5        14681.0  112272.350294  112666.653145  63034.93  73203.17  88524.54   \n",
       "\n",
       "               75%         max  \n",
       "quintil                         \n",
       "1         15383.96    18023.71  \n",
       "2         25508.12    28093.91  \n",
       "3         37126.21    40770.56  \n",
       "4         55579.34    63034.71  \n",
       "5        118954.57  4501830.28  "
      ]
     },
     "execution_count": 17,
     "metadata": {},
     "output_type": "execute_result"
    }
   ],
   "source": [
    "viviendas.groupby('quintil')['ingreso'].describe()"
   ]
  },
  {
   "cell_type": "markdown",
   "id": "c51edbda-b9e8-4887-b670-e1c3fac48b0e",
   "metadata": {},
   "source": [
    "Observamos que:\n",
    "* La suma de observaciones por quintil coincide con el número total de observaciones de la base de datos (73,405).\n",
    "* El ingreso promedio por vivienda aumenta conforme sube el quintil de ingreso, lo cual indica que están bien calculados.\n",
    "* El ingreso mínimo del quintil I es igual al ingreso mínimo de toda la tabla, mientras que el ingreso máximo del quintil V es igual al ingreso máximo de toda la tabla, lo cual confirma nuevamente que los quintiles están calculados correctamente."
   ]
  },
  {
   "cell_type": "markdown",
   "id": "824f1b42-4f12-4385-80ff-8f939dfc6411",
   "metadata": {},
   "source": [
    "## 4. Crear clasificación simplificada de tenencia"
   ]
  },
  {
   "cell_type": "markdown",
   "id": "82f054b4-6e30-49ac-9e0d-d439b6504414",
   "metadata": {},
   "source": [
    "Queremos clasificar la tenencia de vivienda en las siguientes categorías:\n",
    "* \"Rentada\", cuando la vivienda es rentada (variable `tenencia` igual a 1).\n",
    "* \"Propia\", cuando la vivienda es propia y no se está pagando (variable `tenencia` igua a 4).\n",
    "* \"Pagando\", cuando la vivienda es propia y se está pagando (variable `tenencia` igual a 3).\n",
    "* \"Otros\", en cualquier otro caso.\n",
    "\n",
    "Para ello creamos un diccionario llamado `clasificacion`, que mapea los posibles valores de la variable `tenencia` con una de las siguientes clases: `rentada`, `propia`, `pagando` y `otros`:"
   ]
  },
  {
   "cell_type": "code",
   "execution_count": 18,
   "id": "08de7da0-f3a1-4a6b-b503-4094cfbec032",
   "metadata": {},
   "outputs": [],
   "source": [
    "clasificacion = {\n",
    "    1: 'rentada',\n",
    "    2: 'otros',\n",
    "    3: 'pagando',\n",
    "    4: 'propia',\n",
    "    5: 'otros',\n",
    "    6: 'otros'\n",
    "}"
   ]
  },
  {
   "cell_type": "markdown",
   "id": "0c586c48-082f-4eb7-97d4-4dc492df8d47",
   "metadata": {},
   "source": [
    "A continuación creamos una nueva columna llamada `tenencia_clasificacion`, que contendrá el tipo de tenencia simplificado. Inicialmente copiaremos los valores de la variable `tenencia`:"
   ]
  },
  {
   "cell_type": "code",
   "execution_count": 19,
   "id": "ee5542ed-3da1-4c5c-bc40-251442d212b7",
   "metadata": {},
   "outputs": [],
   "source": [
    "viviendas['tenencia_clasificacion'] = viviendas['tenencia']"
   ]
  },
  {
   "cell_type": "markdown",
   "id": "4bc68929-27ae-4f95-8093-ca134f43be8b",
   "metadata": {},
   "source": [
    "Finalmente, reemplazamos los valores de `tenencia_clasificacion` empleando el mapeo que creamos en el diccionario `clasificacion`:"
   ]
  },
  {
   "cell_type": "code",
   "execution_count": 20,
   "id": "3228b803-47e4-4bf1-88c2-8811007643aa",
   "metadata": {},
   "outputs": [],
   "source": [
    "viviendas = viviendas.replace({'tenencia_clasificacion': clasificacion})"
   ]
  },
  {
   "cell_type": "markdown",
   "id": "b57354db-76e2-470b-8c92-f852fa6d8e41",
   "metadata": {},
   "source": [
    "Con esto hemos concluido con la preparación de los datos requerida para elaborar la tabla final."
   ]
  },
  {
   "cell_type": "markdown",
   "id": "64f5c840-c87b-4205-a136-24b44afd666d",
   "metadata": {},
   "source": [
    "## 5. Crear la tabla final"
   ]
  },
  {
   "cell_type": "markdown",
   "id": "9c48b4c7-fe5f-4017-b06d-a9cfcf549c8c",
   "metadata": {},
   "source": [
    "Gracias a `pandas`, la creación de la tabla final es sencilla: agrupamos los datos de `viviendas` por quintil y por tenencia, y posteriormente calculamos la suma de los factores de expansión dentro de cada grupo. Esta tabla la guardaremos como `resumen`:"
   ]
  },
  {
   "cell_type": "code",
   "execution_count": 21,
   "id": "1f21bb6b-2194-4588-8c96-1a6264d54391",
   "metadata": {},
   "outputs": [],
   "source": [
    "resumen = pd.DataFrame(viviendas.groupby(['quintil', 'tenencia_clasificacion']).agg('sum')['factor'])"
   ]
  },
  {
   "cell_type": "markdown",
   "id": "984f94e7-917c-4085-85b3-a151808a1c8b",
   "metadata": {},
   "source": [
    "Cambiamos el nombre de la columna `factor` a `viviendas`, para que sea más descriptivo:"
   ]
  },
  {
   "cell_type": "code",
   "execution_count": 22,
   "id": "58770080-2d4e-4a35-9dcc-25bd69250b6e",
   "metadata": {},
   "outputs": [],
   "source": [
    "resumen = resumen.rename(columns = {'factor': 'viviendas'})"
   ]
  },
  {
   "cell_type": "markdown",
   "id": "fd3dac3a-8eb5-4468-ace0-d4ea4cf626e7",
   "metadata": {},
   "source": [
    "Hay que comprobar que la suma total de las viviendas sea igual a 34,155,615 (este dato lo obtuvimos al final del paso 2):"
   ]
  },
  {
   "cell_type": "code",
   "execution_count": 23,
   "id": "9ba81c55-53a5-4ad5-a166-eb77bdcb5f46",
   "metadata": {},
   "outputs": [
    {
     "data": {
      "text/plain": [
       "34155615"
      ]
     },
     "execution_count": 23,
     "metadata": {},
     "output_type": "execute_result"
    }
   ],
   "source": [
    "tot_viviendas = resumen['viviendas'].sum()\n",
    "tot_viviendas"
   ]
  },
  {
   "cell_type": "markdown",
   "id": "b7cc2485-c39f-4bb5-9fa6-e8d3b3501c2a",
   "metadata": {},
   "source": [
    "El número total de viviendas es el que esperábamos, por lo que ningún dato se ha perdido en el camino.\n",
    "\n",
    "A continuación calculamos el porcentaje de cada observación respecto al total nacional. Este porcentaje se almacenará en la variable `viviendas_porcentaje`:"
   ]
  },
  {
   "cell_type": "code",
   "execution_count": 24,
   "id": "f9e61cac-d1da-49d1-b39c-2f9a18667d09",
   "metadata": {},
   "outputs": [],
   "source": [
    "resumen['viviendas_porcentaje'] = resumen['viviendas'] / tot_viviendas"
   ]
  },
  {
   "cell_type": "markdown",
   "id": "dd46e3c0-170c-4489-88b3-548dcbf6f00a",
   "metadata": {},
   "source": [
    "Comprobamos que la suma de los porcentajes sea igual a 100:"
   ]
  },
  {
   "cell_type": "code",
   "execution_count": 25,
   "id": "d29ec6b2-fb11-43ed-a83d-54364a004eab",
   "metadata": {},
   "outputs": [
    {
     "data": {
      "text/plain": [
       "1.0"
      ]
     },
     "execution_count": 25,
     "metadata": {},
     "output_type": "execute_result"
    }
   ],
   "source": [
    "resumen['viviendas_porcentaje'].sum()"
   ]
  },
  {
   "cell_type": "markdown",
   "id": "2efb2825-ee97-40f5-9172-d2bb5c6e6e36",
   "metadata": {},
   "source": [
    "La tabla final tiene la siguiente forma:"
   ]
  },
  {
   "cell_type": "code",
   "execution_count": 26,
   "id": "64b76c4e-6360-43ac-9158-1e69f1fd27db",
   "metadata": {},
   "outputs": [
    {
     "data": {
      "text/html": [
       "<div>\n",
       "<style scoped>\n",
       "    .dataframe tbody tr th:only-of-type {\n",
       "        vertical-align: middle;\n",
       "    }\n",
       "\n",
       "    .dataframe tbody tr th {\n",
       "        vertical-align: top;\n",
       "    }\n",
       "\n",
       "    .dataframe thead th {\n",
       "        text-align: right;\n",
       "    }\n",
       "</style>\n",
       "<table border=\"1\" class=\"dataframe\">\n",
       "  <thead>\n",
       "    <tr style=\"text-align: right;\">\n",
       "      <th></th>\n",
       "      <th></th>\n",
       "      <th>viviendas</th>\n",
       "      <th>viviendas_porcentaje</th>\n",
       "    </tr>\n",
       "    <tr>\n",
       "      <th>quintil</th>\n",
       "      <th>tenencia_clasificacion</th>\n",
       "      <th></th>\n",
       "      <th></th>\n",
       "    </tr>\n",
       "  </thead>\n",
       "  <tbody>\n",
       "    <tr>\n",
       "      <th rowspan=\"4\" valign=\"top\">1</th>\n",
       "      <th>otros</th>\n",
       "      <td>1219824</td>\n",
       "      <td>0.035714</td>\n",
       "    </tr>\n",
       "    <tr>\n",
       "      <th>pagando</th>\n",
       "      <td>75998</td>\n",
       "      <td>0.002225</td>\n",
       "    </tr>\n",
       "    <tr>\n",
       "      <th>propia</th>\n",
       "      <td>4172293</td>\n",
       "      <td>0.122155</td>\n",
       "    </tr>\n",
       "    <tr>\n",
       "      <th>rentada</th>\n",
       "      <td>716885</td>\n",
       "      <td>0.020989</td>\n",
       "    </tr>\n",
       "    <tr>\n",
       "      <th rowspan=\"4\" valign=\"top\">2</th>\n",
       "      <th>otros</th>\n",
       "      <td>1384369</td>\n",
       "      <td>0.040531</td>\n",
       "    </tr>\n",
       "    <tr>\n",
       "      <th>pagando</th>\n",
       "      <td>271590</td>\n",
       "      <td>0.007952</td>\n",
       "    </tr>\n",
       "    <tr>\n",
       "      <th>propia</th>\n",
       "      <td>3783410</td>\n",
       "      <td>0.110770</td>\n",
       "    </tr>\n",
       "    <tr>\n",
       "      <th>rentada</th>\n",
       "      <td>1068558</td>\n",
       "      <td>0.031285</td>\n",
       "    </tr>\n",
       "    <tr>\n",
       "      <th rowspan=\"4\" valign=\"top\">3</th>\n",
       "      <th>otros</th>\n",
       "      <td>1310559</td>\n",
       "      <td>0.038370</td>\n",
       "    </tr>\n",
       "    <tr>\n",
       "      <th>pagando</th>\n",
       "      <td>594518</td>\n",
       "      <td>0.017406</td>\n",
       "    </tr>\n",
       "    <tr>\n",
       "      <th>propia</th>\n",
       "      <td>3776992</td>\n",
       "      <td>0.110582</td>\n",
       "    </tr>\n",
       "    <tr>\n",
       "      <th>rentada</th>\n",
       "      <td>1155867</td>\n",
       "      <td>0.033841</td>\n",
       "    </tr>\n",
       "    <tr>\n",
       "      <th rowspan=\"4\" valign=\"top\">4</th>\n",
       "      <th>otros</th>\n",
       "      <td>1048277</td>\n",
       "      <td>0.030691</td>\n",
       "    </tr>\n",
       "    <tr>\n",
       "      <th>pagando</th>\n",
       "      <td>908546</td>\n",
       "      <td>0.026600</td>\n",
       "    </tr>\n",
       "    <tr>\n",
       "      <th>propia</th>\n",
       "      <td>3927793</td>\n",
       "      <td>0.114997</td>\n",
       "    </tr>\n",
       "    <tr>\n",
       "      <th>rentada</th>\n",
       "      <td>1116621</td>\n",
       "      <td>0.032692</td>\n",
       "    </tr>\n",
       "    <tr>\n",
       "      <th rowspan=\"4\" valign=\"top\">5</th>\n",
       "      <th>otros</th>\n",
       "      <td>721895</td>\n",
       "      <td>0.021135</td>\n",
       "    </tr>\n",
       "    <tr>\n",
       "      <th>pagando</th>\n",
       "      <td>1211585</td>\n",
       "      <td>0.035472</td>\n",
       "    </tr>\n",
       "    <tr>\n",
       "      <th>propia</th>\n",
       "      <td>4603344</td>\n",
       "      <td>0.134776</td>\n",
       "    </tr>\n",
       "    <tr>\n",
       "      <th>rentada</th>\n",
       "      <td>1086691</td>\n",
       "      <td>0.031816</td>\n",
       "    </tr>\n",
       "  </tbody>\n",
       "</table>\n",
       "</div>"
      ],
      "text/plain": [
       "                                viviendas  viviendas_porcentaje\n",
       "quintil tenencia_clasificacion                                 \n",
       "1       otros                     1219824              0.035714\n",
       "        pagando                     75998              0.002225\n",
       "        propia                    4172293              0.122155\n",
       "        rentada                    716885              0.020989\n",
       "2       otros                     1384369              0.040531\n",
       "        pagando                    271590              0.007952\n",
       "        propia                    3783410              0.110770\n",
       "        rentada                   1068558              0.031285\n",
       "3       otros                     1310559              0.038370\n",
       "        pagando                    594518              0.017406\n",
       "        propia                    3776992              0.110582\n",
       "        rentada                   1155867              0.033841\n",
       "4       otros                     1048277              0.030691\n",
       "        pagando                    908546              0.026600\n",
       "        propia                    3927793              0.114997\n",
       "        rentada                   1116621              0.032692\n",
       "5       otros                      721895              0.021135\n",
       "        pagando                   1211585              0.035472\n",
       "        propia                    4603344              0.134776\n",
       "        rentada                   1086691              0.031816"
      ]
     },
     "execution_count": 26,
     "metadata": {},
     "output_type": "execute_result"
    }
   ],
   "source": [
    "resumen"
   ]
  },
  {
   "cell_type": "markdown",
   "id": "167314da-a642-4235-aa2e-e1eabe9e6a0a",
   "metadata": {},
   "source": [
    "Antes de guardarla como un archivo de Excel, modificamos el formato de manera que:\n",
    "* Los porcentajes aparezcan debajo de los valores absolutos.\n",
    "* Los quintiles aparezcan como columnas"
   ]
  },
  {
   "cell_type": "code",
   "execution_count": 27,
   "id": "ea3c3af2-0f91-46fd-b532-d5fc5067ff4a",
   "metadata": {},
   "outputs": [],
   "source": [
    "resumen = resumen.stack()\n",
    "resumen = resumen.unstack(level = 'quintil')"
   ]
  },
  {
   "cell_type": "markdown",
   "id": "012f3198-6bf9-482a-a9cf-b48b54703263",
   "metadata": {},
   "source": [
    "El resultado es el siguiente:"
   ]
  },
  {
   "cell_type": "code",
   "execution_count": 28,
   "id": "9d89ab70-21f0-4272-9196-c161beed3af4",
   "metadata": {},
   "outputs": [
    {
     "data": {
      "text/html": [
       "<div>\n",
       "<style scoped>\n",
       "    .dataframe tbody tr th:only-of-type {\n",
       "        vertical-align: middle;\n",
       "    }\n",
       "\n",
       "    .dataframe tbody tr th {\n",
       "        vertical-align: top;\n",
       "    }\n",
       "\n",
       "    .dataframe thead th {\n",
       "        text-align: right;\n",
       "    }\n",
       "</style>\n",
       "<table border=\"1\" class=\"dataframe\">\n",
       "  <thead>\n",
       "    <tr style=\"text-align: right;\">\n",
       "      <th></th>\n",
       "      <th>quintil</th>\n",
       "      <th>1</th>\n",
       "      <th>2</th>\n",
       "      <th>3</th>\n",
       "      <th>4</th>\n",
       "      <th>5</th>\n",
       "    </tr>\n",
       "    <tr>\n",
       "      <th>tenencia_clasificacion</th>\n",
       "      <th></th>\n",
       "      <th></th>\n",
       "      <th></th>\n",
       "      <th></th>\n",
       "      <th></th>\n",
       "      <th></th>\n",
       "    </tr>\n",
       "  </thead>\n",
       "  <tbody>\n",
       "    <tr>\n",
       "      <th rowspan=\"2\" valign=\"top\">otros</th>\n",
       "      <th>viviendas</th>\n",
       "      <td>1.219824e+06</td>\n",
       "      <td>1.384369e+06</td>\n",
       "      <td>1.310559e+06</td>\n",
       "      <td>1.048277e+06</td>\n",
       "      <td>7.218950e+05</td>\n",
       "    </tr>\n",
       "    <tr>\n",
       "      <th>viviendas_porcentaje</th>\n",
       "      <td>3.571372e-02</td>\n",
       "      <td>4.053123e-02</td>\n",
       "      <td>3.837024e-02</td>\n",
       "      <td>3.069121e-02</td>\n",
       "      <td>2.113547e-02</td>\n",
       "    </tr>\n",
       "    <tr>\n",
       "      <th rowspan=\"2\" valign=\"top\">pagando</th>\n",
       "      <th>viviendas</th>\n",
       "      <td>7.599800e+04</td>\n",
       "      <td>2.715900e+05</td>\n",
       "      <td>5.945180e+05</td>\n",
       "      <td>9.085460e+05</td>\n",
       "      <td>1.211585e+06</td>\n",
       "    </tr>\n",
       "    <tr>\n",
       "      <th>viviendas_porcentaje</th>\n",
       "      <td>2.225051e-03</td>\n",
       "      <td>7.951548e-03</td>\n",
       "      <td>1.740616e-02</td>\n",
       "      <td>2.660019e-02</td>\n",
       "      <td>3.547250e-02</td>\n",
       "    </tr>\n",
       "    <tr>\n",
       "      <th rowspan=\"2\" valign=\"top\">propia</th>\n",
       "      <th>viviendas</th>\n",
       "      <td>4.172293e+06</td>\n",
       "      <td>3.783410e+06</td>\n",
       "      <td>3.776992e+06</td>\n",
       "      <td>3.927793e+06</td>\n",
       "      <td>4.603344e+06</td>\n",
       "    </tr>\n",
       "    <tr>\n",
       "      <th>viviendas_porcentaje</th>\n",
       "      <td>1.221554e-01</td>\n",
       "      <td>1.107698e-01</td>\n",
       "      <td>1.105819e-01</td>\n",
       "      <td>1.149970e-01</td>\n",
       "      <td>1.347756e-01</td>\n",
       "    </tr>\n",
       "    <tr>\n",
       "      <th rowspan=\"2\" valign=\"top\">rentada</th>\n",
       "      <th>viviendas</th>\n",
       "      <td>7.168850e+05</td>\n",
       "      <td>1.068558e+06</td>\n",
       "      <td>1.155867e+06</td>\n",
       "      <td>1.116621e+06</td>\n",
       "      <td>1.086691e+06</td>\n",
       "    </tr>\n",
       "    <tr>\n",
       "      <th>viviendas_porcentaje</th>\n",
       "      <td>2.098879e-02</td>\n",
       "      <td>3.128499e-02</td>\n",
       "      <td>3.384120e-02</td>\n",
       "      <td>3.269216e-02</td>\n",
       "      <td>3.181588e-02</td>\n",
       "    </tr>\n",
       "  </tbody>\n",
       "</table>\n",
       "</div>"
      ],
      "text/plain": [
       "quintil                                                 1             2  \\\n",
       "tenencia_clasificacion                                                    \n",
       "otros                  viviendas             1.219824e+06  1.384369e+06   \n",
       "                       viviendas_porcentaje  3.571372e-02  4.053123e-02   \n",
       "pagando                viviendas             7.599800e+04  2.715900e+05   \n",
       "                       viviendas_porcentaje  2.225051e-03  7.951548e-03   \n",
       "propia                 viviendas             4.172293e+06  3.783410e+06   \n",
       "                       viviendas_porcentaje  1.221554e-01  1.107698e-01   \n",
       "rentada                viviendas             7.168850e+05  1.068558e+06   \n",
       "                       viviendas_porcentaje  2.098879e-02  3.128499e-02   \n",
       "\n",
       "quintil                                                 3             4  \\\n",
       "tenencia_clasificacion                                                    \n",
       "otros                  viviendas             1.310559e+06  1.048277e+06   \n",
       "                       viviendas_porcentaje  3.837024e-02  3.069121e-02   \n",
       "pagando                viviendas             5.945180e+05  9.085460e+05   \n",
       "                       viviendas_porcentaje  1.740616e-02  2.660019e-02   \n",
       "propia                 viviendas             3.776992e+06  3.927793e+06   \n",
       "                       viviendas_porcentaje  1.105819e-01  1.149970e-01   \n",
       "rentada                viviendas             1.155867e+06  1.116621e+06   \n",
       "                       viviendas_porcentaje  3.384120e-02  3.269216e-02   \n",
       "\n",
       "quintil                                                 5  \n",
       "tenencia_clasificacion                                     \n",
       "otros                  viviendas             7.218950e+05  \n",
       "                       viviendas_porcentaje  2.113547e-02  \n",
       "pagando                viviendas             1.211585e+06  \n",
       "                       viviendas_porcentaje  3.547250e-02  \n",
       "propia                 viviendas             4.603344e+06  \n",
       "                       viviendas_porcentaje  1.347756e-01  \n",
       "rentada                viviendas             1.086691e+06  \n",
       "                       viviendas_porcentaje  3.181588e-02  "
      ]
     },
     "execution_count": 28,
     "metadata": {},
     "output_type": "execute_result"
    }
   ],
   "source": [
    "resumen"
   ]
  },
  {
   "cell_type": "markdown",
   "id": "ce48646f-f2b4-41c3-b61d-a2d31ab77666",
   "metadata": {},
   "source": [
    "Finalmente, guardamos esta tabla como un archivo de Excel (`.xlsx`), para posteriormente darle formato manualmente:"
   ]
  },
  {
   "cell_type": "code",
   "execution_count": 29,
   "id": "2179b880-7214-4418-88c3-84bb72f30952",
   "metadata": {},
   "outputs": [],
   "source": [
    "resumen.to_excel('resumen.xlsx')"
   ]
  }
 ],
 "metadata": {
  "kernelspec": {
   "display_name": "Python 3 (ipykernel)",
   "language": "python",
   "name": "python3"
  },
  "language_info": {
   "codemirror_mode": {
    "name": "ipython",
    "version": 3
   },
   "file_extension": ".py",
   "mimetype": "text/x-python",
   "name": "python",
   "nbconvert_exporter": "python",
   "pygments_lexer": "ipython3",
   "version": "3.9.6"
  }
 },
 "nbformat": 4,
 "nbformat_minor": 5
}
